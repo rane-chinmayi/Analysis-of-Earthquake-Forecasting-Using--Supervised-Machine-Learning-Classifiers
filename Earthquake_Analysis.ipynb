{
  "cells": [
    {
      "cell_type": "code",
      "execution_count": null,
      "metadata": {
        "id": "uqbGznPday9M"
      },
      "outputs": [],
      "source": [
        "import pandas as pd\n",
        "import numpy as np\n",
        "import matplotlib.pyplot as plt\n",
        "import seaborn as sns\n",
        "from pandas import read_csv"
      ]
    },
    {
      "cell_type": "code",
      "execution_count": null,
      "metadata": {
        "id": "Z8J6MCJ8cKkk"
      },
      "outputs": [],
      "source": [
        "df = read_csv(\"all_month.csv\")"
      ]
    },
    {
      "cell_type": "code",
      "execution_count": null,
      "metadata": {
        "colab": {
          "base_uri": "https://localhost:8080/"
        },
        "id": "T-WKWFMEcS2J",
        "outputId": "05c9dc73-3fec-43d8-9993-8a4f92af1562"
      },
      "outputs": [
        {
          "data": {
            "text/plain": [
              "(9186, 22)"
            ]
          },
          "execution_count": 3,
          "metadata": {},
          "output_type": "execute_result"
        }
      ],
      "source": [
        "df.shape"
      ]
    },
    {
      "cell_type": "code",
      "execution_count": null,
      "metadata": {
        "colab": {
          "base_uri": "https://localhost:8080/",
          "height": 521
        },
        "id": "CPJAaEylc1ww",
        "outputId": "79074ca0-d842-4bbc-facd-7306d5a5018f"
      },
      "outputs": [
        {
          "data": {
            "text/html": [
              "<div>\n",
              "<style scoped>\n",
              "    .dataframe tbody tr th:only-of-type {\n",
              "        vertical-align: middle;\n",
              "    }\n",
              "\n",
              "    .dataframe tbody tr th {\n",
              "        vertical-align: top;\n",
              "    }\n",
              "\n",
              "    .dataframe thead th {\n",
              "        text-align: right;\n",
              "    }\n",
              "</style>\n",
              "<table border=\"1\" class=\"dataframe\">\n",
              "  <thead>\n",
              "    <tr style=\"text-align: right;\">\n",
              "      <th></th>\n",
              "      <th>time</th>\n",
              "      <th>latitude</th>\n",
              "      <th>longitude</th>\n",
              "      <th>depth</th>\n",
              "      <th>mag</th>\n",
              "      <th>magType</th>\n",
              "      <th>nst</th>\n",
              "      <th>gap</th>\n",
              "      <th>dmin</th>\n",
              "      <th>rms</th>\n",
              "      <th>...</th>\n",
              "      <th>updated</th>\n",
              "      <th>place</th>\n",
              "      <th>type</th>\n",
              "      <th>horizontalError</th>\n",
              "      <th>depthError</th>\n",
              "      <th>magError</th>\n",
              "      <th>magNst</th>\n",
              "      <th>status</th>\n",
              "      <th>locationSource</th>\n",
              "      <th>magSource</th>\n",
              "    </tr>\n",
              "  </thead>\n",
              "  <tbody>\n",
              "    <tr>\n",
              "      <th>0</th>\n",
              "      <td>2021-11-22T04:45:35.010Z</td>\n",
              "      <td>33.190167</td>\n",
              "      <td>-115.595833</td>\n",
              "      <td>1.78</td>\n",
              "      <td>1.72</td>\n",
              "      <td>ml</td>\n",
              "      <td>21.0</td>\n",
              "      <td>81.0</td>\n",
              "      <td>0.02089</td>\n",
              "      <td>0.19</td>\n",
              "      <td>...</td>\n",
              "      <td>2021-11-22T04:49:26.080Z</td>\n",
              "      <td>9km SW of Niland, CA</td>\n",
              "      <td>earthquake</td>\n",
              "      <td>0.31</td>\n",
              "      <td>0.42</td>\n",
              "      <td>0.129</td>\n",
              "      <td>27.0</td>\n",
              "      <td>automatic</td>\n",
              "      <td>ci</td>\n",
              "      <td>ci</td>\n",
              "    </tr>\n",
              "    <tr>\n",
              "      <th>1</th>\n",
              "      <td>2021-11-22T04:44:53.833Z</td>\n",
              "      <td>61.662800</td>\n",
              "      <td>-150.393800</td>\n",
              "      <td>18.00</td>\n",
              "      <td>1.70</td>\n",
              "      <td>ml</td>\n",
              "      <td>NaN</td>\n",
              "      <td>NaN</td>\n",
              "      <td>NaN</td>\n",
              "      <td>0.34</td>\n",
              "      <td>...</td>\n",
              "      <td>2021-11-22T04:49:26.369Z</td>\n",
              "      <td>14 km NNE of Susitna, Alaska</td>\n",
              "      <td>earthquake</td>\n",
              "      <td>NaN</td>\n",
              "      <td>0.40</td>\n",
              "      <td>NaN</td>\n",
              "      <td>NaN</td>\n",
              "      <td>automatic</td>\n",
              "      <td>ak</td>\n",
              "      <td>ak</td>\n",
              "    </tr>\n",
              "    <tr>\n",
              "      <th>2</th>\n",
              "      <td>2021-11-22T04:43:43.430Z</td>\n",
              "      <td>33.197333</td>\n",
              "      <td>-115.602500</td>\n",
              "      <td>1.42</td>\n",
              "      <td>1.47</td>\n",
              "      <td>ml</td>\n",
              "      <td>19.0</td>\n",
              "      <td>88.0</td>\n",
              "      <td>0.02200</td>\n",
              "      <td>0.25</td>\n",
              "      <td>...</td>\n",
              "      <td>2021-11-22T04:47:20.066Z</td>\n",
              "      <td>9km WSW of Niland, CA</td>\n",
              "      <td>earthquake</td>\n",
              "      <td>0.42</td>\n",
              "      <td>0.59</td>\n",
              "      <td>0.193</td>\n",
              "      <td>27.0</td>\n",
              "      <td>automatic</td>\n",
              "      <td>ci</td>\n",
              "      <td>ci</td>\n",
              "    </tr>\n",
              "    <tr>\n",
              "      <th>3</th>\n",
              "      <td>2021-11-22T04:42:45.380Z</td>\n",
              "      <td>34.067500</td>\n",
              "      <td>-117.259000</td>\n",
              "      <td>10.68</td>\n",
              "      <td>0.95</td>\n",
              "      <td>ml</td>\n",
              "      <td>27.0</td>\n",
              "      <td>71.0</td>\n",
              "      <td>0.12170</td>\n",
              "      <td>0.23</td>\n",
              "      <td>...</td>\n",
              "      <td>2021-11-22T04:46:23.635Z</td>\n",
              "      <td>2km N of Loma Linda, CA</td>\n",
              "      <td>earthquake</td>\n",
              "      <td>0.35</td>\n",
              "      <td>1.04</td>\n",
              "      <td>0.126</td>\n",
              "      <td>26.0</td>\n",
              "      <td>automatic</td>\n",
              "      <td>ci</td>\n",
              "      <td>ci</td>\n",
              "    </tr>\n",
              "    <tr>\n",
              "      <th>4</th>\n",
              "      <td>2021-11-22T04:32:24.080Z</td>\n",
              "      <td>36.530167</td>\n",
              "      <td>-117.971664</td>\n",
              "      <td>6.81</td>\n",
              "      <td>3.00</td>\n",
              "      <td>ml</td>\n",
              "      <td>45.0</td>\n",
              "      <td>55.0</td>\n",
              "      <td>0.10040</td>\n",
              "      <td>0.24</td>\n",
              "      <td>...</td>\n",
              "      <td>2021-11-22T04:45:48.084Z</td>\n",
              "      <td>11km SE of Lone Pine, CA</td>\n",
              "      <td>earthquake</td>\n",
              "      <td>0.30</td>\n",
              "      <td>0.85</td>\n",
              "      <td>0.268</td>\n",
              "      <td>24.0</td>\n",
              "      <td>automatic</td>\n",
              "      <td>ci</td>\n",
              "      <td>ci</td>\n",
              "    </tr>\n",
              "  </tbody>\n",
              "</table>\n",
              "<p>5 rows × 22 columns</p>\n",
              "</div>"
            ],
            "text/plain": [
              "                       time   latitude   longitude  depth   mag magType   nst  \\\n",
              "0  2021-11-22T04:45:35.010Z  33.190167 -115.595833   1.78  1.72      ml  21.0   \n",
              "1  2021-11-22T04:44:53.833Z  61.662800 -150.393800  18.00  1.70      ml   NaN   \n",
              "2  2021-11-22T04:43:43.430Z  33.197333 -115.602500   1.42  1.47      ml  19.0   \n",
              "3  2021-11-22T04:42:45.380Z  34.067500 -117.259000  10.68  0.95      ml  27.0   \n",
              "4  2021-11-22T04:32:24.080Z  36.530167 -117.971664   6.81  3.00      ml  45.0   \n",
              "\n",
              "    gap     dmin   rms  ...                   updated  \\\n",
              "0  81.0  0.02089  0.19  ...  2021-11-22T04:49:26.080Z   \n",
              "1   NaN      NaN  0.34  ...  2021-11-22T04:49:26.369Z   \n",
              "2  88.0  0.02200  0.25  ...  2021-11-22T04:47:20.066Z   \n",
              "3  71.0  0.12170  0.23  ...  2021-11-22T04:46:23.635Z   \n",
              "4  55.0  0.10040  0.24  ...  2021-11-22T04:45:48.084Z   \n",
              "\n",
              "                          place        type horizontalError depthError  \\\n",
              "0          9km SW of Niland, CA  earthquake            0.31       0.42   \n",
              "1  14 km NNE of Susitna, Alaska  earthquake             NaN       0.40   \n",
              "2         9km WSW of Niland, CA  earthquake            0.42       0.59   \n",
              "3       2km N of Loma Linda, CA  earthquake            0.35       1.04   \n",
              "4      11km SE of Lone Pine, CA  earthquake            0.30       0.85   \n",
              "\n",
              "   magError  magNst     status  locationSource magSource  \n",
              "0     0.129    27.0  automatic              ci        ci  \n",
              "1       NaN     NaN  automatic              ak        ak  \n",
              "2     0.193    27.0  automatic              ci        ci  \n",
              "3     0.126    26.0  automatic              ci        ci  \n",
              "4     0.268    24.0  automatic              ci        ci  \n",
              "\n",
              "[5 rows x 22 columns]"
            ]
          },
          "execution_count": 4,
          "metadata": {},
          "output_type": "execute_result"
        }
      ],
      "source": [
        "df.head()"
      ]
    },
    {
      "cell_type": "code",
      "execution_count": null,
      "metadata": {
        "colab": {
          "base_uri": "https://localhost:8080/"
        },
        "id": "ith-OuV0c3eS",
        "outputId": "3bf22f2d-33e1-476f-9a9a-94e67df53ecd"
      },
      "outputs": [
        {
          "data": {
            "text/plain": [
              "time                  0\n",
              "latitude              0\n",
              "longitude             0\n",
              "depth                 0\n",
              "mag                   2\n",
              "magType               2\n",
              "nst                2529\n",
              "gap                1554\n",
              "dmin               2815\n",
              "rms                   1\n",
              "net                   0\n",
              "id                    0\n",
              "updated               0\n",
              "place                 0\n",
              "type                  0\n",
              "horizontalError    2390\n",
              "depthError            1\n",
              "magError           2122\n",
              "magNst             1561\n",
              "status                0\n",
              "locationSource        0\n",
              "magSource             0\n",
              "dtype: int64"
            ]
          },
          "execution_count": 5,
          "metadata": {},
          "output_type": "execute_result"
        }
      ],
      "source": [
        "df.isnull().sum()"
      ]
    },
    {
      "cell_type": "code",
      "execution_count": null,
      "metadata": {
        "id": "5O_jbd78RdvM"
      },
      "outputs": [],
      "source": [
        "df = df[df['mag'].notna()]"
      ]
    },
    {
      "cell_type": "code",
      "execution_count": null,
      "metadata": {
        "id": "xQGAyMXASwho"
      },
      "outputs": [],
      "source": [
        "df=df[df.mag>0]"
      ]
    },
    {
      "cell_type": "code",
      "execution_count": null,
      "metadata": {
        "colab": {
          "base_uri": "https://localhost:8080/"
        },
        "id": "1DPC7oOgR31e",
        "outputId": "1f41b7e0-1811-4bd0-e289-2f8287f54dce"
      },
      "outputs": [
        {
          "data": {
            "text/plain": [
              "(8867, 22)"
            ]
          },
          "execution_count": 8,
          "metadata": {},
          "output_type": "execute_result"
        }
      ],
      "source": [
        "df.shape"
      ]
    },
    {
      "cell_type": "code",
      "execution_count": null,
      "metadata": {
        "id": "fC6PHklOSFJ9"
      },
      "outputs": [],
      "source": [
        "mag = np.array(df['mag'])"
      ]
    },
    {
      "cell_type": "code",
      "execution_count": null,
      "metadata": {
        "id": "St96eLAHRwGU"
      },
      "outputs": [],
      "source": [
        "magclass = np.zeros(len(mag))"
      ]
    },
    {
      "cell_type": "code",
      "execution_count": null,
      "metadata": {
        "id": "m7_DSJ7vMdqi"
      },
      "outputs": [],
      "source": [
        "i = 0\n",
        "for i in range(0, len(magclass)):\n",
        "  if mag[i] >= 5.5:\n",
        "    magclass[i] = 3\n",
        "  elif 4.5<= mag[i] <5.5:\n",
        "    magclass[i] = 2\n",
        "  elif 0<= mag[i] <4.5:\n",
        "    magclass[i] = 1"
      ]
    },
    {
      "cell_type": "code",
      "execution_count": null,
      "metadata": {
        "id": "HJ9pd2Q6NmY8"
      },
      "outputs": [],
      "source": [
        "df['class'] = magclass.tolist()"
      ]
    },
    {
      "cell_type": "code",
      "execution_count": null,
      "metadata": {
        "id": "3elaxQnNPHQn",
        "outputId": "12c3d7cd-ba07-4aaf-b95f-f4d39e1623df"
      },
      "outputs": [
        {
          "name": "stderr",
          "output_type": "stream",
          "text": [
            "C:\\Users\\ranea\\anaconda3\\lib\\site-packages\\seaborn\\_decorators.py:36: FutureWarning: Pass the following variable as a keyword arg: x. From version 0.12, the only valid positional argument will be `data`, and passing other arguments without an explicit keyword will result in an error or misinterpretation.\n",
            "  warnings.warn(\n"
          ]
        },
        {
          "data": {
            "text/plain": [
              "<AxesSubplot:xlabel='mag'>"
            ]
          },
          "execution_count": 13,
          "metadata": {},
          "output_type": "execute_result"
        },
        {
          "data": {
            "image/png": "[encoded data removed]",
            "text/plain": [
              "<Figure size 432x288 with 1 Axes>"
            ]
          },
          "metadata": {
            "needs_background": "light"
          },
          "output_type": "display_data"
        }
      ],
      "source": [
        "sns.boxplot(df[\"mag\"])"
      ]
    },
    {
      "cell_type": "code",
      "execution_count": null,
      "metadata": {
        "colab": {
          "base_uri": "https://localhost:8080/",
          "height": 287
        },
        "id": "ERO2X7mHP70-",
        "outputId": "cfbee864-1db5-49f6-a09a-5d6d1f4a05c6"
      },
      "outputs": [
        {
          "data": {
            "text/plain": [
              "1.0    8415\n",
              "2.0     419\n",
              "3.0      33\n",
              "Name: class, dtype: int64"
            ]
          },
          "execution_count": 14,
          "metadata": {},
          "output_type": "execute_result"
        }
      ],
      "source": [
        "df['class'].value_counts()"
      ]
    },
    {
      "cell_type": "code",
      "execution_count": null,
      "metadata": {
        "colab": {
          "base_uri": "https://localhost:8080/"
        },
        "id": "21dL5lYSQO1_",
        "outputId": "f682643e-d024-4109-be33-558cd3ae0b54"
      },
      "outputs": [
        {
          "data": {
            "text/plain": [
              "1.60    212\n",
              "1.50    206\n",
              "1.40    204\n",
              "1.30    179\n",
              "0.85    164\n",
              "       ... \n",
              "2.43      1\n",
              "3.38      1\n",
              "4.05      1\n",
              "3.71      1\n",
              "2.85      1\n",
              "Name: mag, Length: 469, dtype: int64"
            ]
          },
          "execution_count": 15,
          "metadata": {},
          "output_type": "execute_result"
        }
      ],
      "source": [
        "df['mag'].value_counts()"
      ]
    },
    {
      "cell_type": "code",
      "execution_count": null,
      "metadata": {
        "id": "BNgbp0F3-lV6",
        "outputId": "0db972b1-6a07-44f8-f515-07e2a035b846"
      },
      "outputs": [
        {
          "name": "stderr",
          "output_type": "stream",
          "text": [
            "C:\\Users\\ranea\\AppData\\Local\\Temp/ipykernel_11216/3300883012.py:1: FutureWarning: In a future version of pandas all arguments of DataFrame.drop except for the argument 'labels' will be keyword-only\n",
            "  df = df.drop('place', 1)\n",
            "C:\\Users\\ranea\\AppData\\Local\\Temp/ipykernel_11216/3300883012.py:2: FutureWarning: In a future version of pandas all arguments of DataFrame.drop except for the argument 'labels' will be keyword-only\n",
            "  df = df.drop('type', 1)\n",
            "C:\\Users\\ranea\\AppData\\Local\\Temp/ipykernel_11216/3300883012.py:3: FutureWarning: In a future version of pandas all arguments of DataFrame.drop except for the argument 'labels' will be keyword-only\n",
            "  df = df.drop('status', 1)\n",
            "C:\\Users\\ranea\\AppData\\Local\\Temp/ipykernel_11216/3300883012.py:4: FutureWarning: In a future version of pandas all arguments of DataFrame.drop except for the argument 'labels' will be keyword-only\n",
            "  df = df.drop('locationSource', 1)\n",
            "C:\\Users\\ranea\\AppData\\Local\\Temp/ipykernel_11216/3300883012.py:5: FutureWarning: In a future version of pandas all arguments of DataFrame.drop except for the argument 'labels' will be keyword-only\n",
            "  df = df.drop('magSource', 1)\n",
            "C:\\Users\\ranea\\AppData\\Local\\Temp/ipykernel_11216/3300883012.py:6: FutureWarning: In a future version of pandas all arguments of DataFrame.drop except for the argument 'labels' will be keyword-only\n",
            "  df = df.drop('time', 1)\n",
            "C:\\Users\\ranea\\AppData\\Local\\Temp/ipykernel_11216/3300883012.py:7: FutureWarning: In a future version of pandas all arguments of DataFrame.drop except for the argument 'labels' will be keyword-only\n",
            "  df = df.drop('updated', 1)\n",
            "C:\\Users\\ranea\\AppData\\Local\\Temp/ipykernel_11216/3300883012.py:8: FutureWarning: In a future version of pandas all arguments of DataFrame.drop except for the argument 'labels' will be keyword-only\n",
            "  df = df.drop('net', 1)\n",
            "C:\\Users\\ranea\\AppData\\Local\\Temp/ipykernel_11216/3300883012.py:9: FutureWarning: In a future version of pandas all arguments of DataFrame.drop except for the argument 'labels' will be keyword-only\n",
            "  df = df.drop('id', 1)\n",
            "C:\\Users\\ranea\\AppData\\Local\\Temp/ipykernel_11216/3300883012.py:10: FutureWarning: In a future version of pandas all arguments of DataFrame.drop except for the argument 'labels' will be keyword-only\n",
            "  df = df.drop('magType', 1)\n"
          ]
        }
      ],
      "source": [
        "df = df.drop('place', 1)\n",
        "df = df.drop('type', 1)\n",
        "df = df.drop('status', 1)\n",
        "df = df.drop('locationSource', 1)\n",
        "df = df.drop('magSource', 1)\n",
        "df = df.drop('time', 1)\n",
        "df = df.drop('updated', 1)\n",
        "df = df.drop('net', 1)\n",
        "df = df.drop('id', 1)\n",
        "df = df.drop('magType', 1)"
      ]
    },
    {
      "cell_type": "code",
      "execution_count": null,
      "metadata": {
        "id": "i8h0n0Vo-lV6",
        "outputId": "5334deb3-613b-4cf8-98ab-5b4e4ed7fc3a"
      },
      "outputs": [
        {
          "data": {
            "text/html": [
              "<div>\n",
              "<style scoped>\n",
              "    .dataframe tbody tr th:only-of-type {\n",
              "        vertical-align: middle;\n",
              "    }\n",
              "\n",
              "    .dataframe tbody tr th {\n",
              "        vertical-align: top;\n",
              "    }\n",
              "\n",
              "    .dataframe thead th {\n",
              "        text-align: right;\n",
              "    }\n",
              "</style>\n",
              "<table border=\"1\" class=\"dataframe\">\n",
              "  <thead>\n",
              "    <tr style=\"text-align: right;\">\n",
              "      <th></th>\n",
              "      <th>latitude</th>\n",
              "      <th>longitude</th>\n",
              "      <th>depth</th>\n",
              "      <th>mag</th>\n",
              "      <th>nst</th>\n",
              "      <th>gap</th>\n",
              "      <th>dmin</th>\n",
              "      <th>rms</th>\n",
              "      <th>horizontalError</th>\n",
              "      <th>depthError</th>\n",
              "      <th>magError</th>\n",
              "      <th>magNst</th>\n",
              "      <th>class</th>\n",
              "    </tr>\n",
              "  </thead>\n",
              "  <tbody>\n",
              "    <tr>\n",
              "      <th>0</th>\n",
              "      <td>33.190167</td>\n",
              "      <td>-115.595833</td>\n",
              "      <td>1.78</td>\n",
              "      <td>1.72</td>\n",
              "      <td>21.0</td>\n",
              "      <td>81.0</td>\n",
              "      <td>0.02089</td>\n",
              "      <td>0.19</td>\n",
              "      <td>0.31</td>\n",
              "      <td>0.42</td>\n",
              "      <td>0.129</td>\n",
              "      <td>27.0</td>\n",
              "      <td>1.0</td>\n",
              "    </tr>\n",
              "    <tr>\n",
              "      <th>1</th>\n",
              "      <td>61.662800</td>\n",
              "      <td>-150.393800</td>\n",
              "      <td>18.00</td>\n",
              "      <td>1.70</td>\n",
              "      <td>NaN</td>\n",
              "      <td>NaN</td>\n",
              "      <td>NaN</td>\n",
              "      <td>0.34</td>\n",
              "      <td>NaN</td>\n",
              "      <td>0.40</td>\n",
              "      <td>NaN</td>\n",
              "      <td>NaN</td>\n",
              "      <td>1.0</td>\n",
              "    </tr>\n",
              "    <tr>\n",
              "      <th>2</th>\n",
              "      <td>33.197333</td>\n",
              "      <td>-115.602500</td>\n",
              "      <td>1.42</td>\n",
              "      <td>1.47</td>\n",
              "      <td>19.0</td>\n",
              "      <td>88.0</td>\n",
              "      <td>0.02200</td>\n",
              "      <td>0.25</td>\n",
              "      <td>0.42</td>\n",
              "      <td>0.59</td>\n",
              "      <td>0.193</td>\n",
              "      <td>27.0</td>\n",
              "      <td>1.0</td>\n",
              "    </tr>\n",
              "    <tr>\n",
              "      <th>3</th>\n",
              "      <td>34.067500</td>\n",
              "      <td>-117.259000</td>\n",
              "      <td>10.68</td>\n",
              "      <td>0.95</td>\n",
              "      <td>27.0</td>\n",
              "      <td>71.0</td>\n",
              "      <td>0.12170</td>\n",
              "      <td>0.23</td>\n",
              "      <td>0.35</td>\n",
              "      <td>1.04</td>\n",
              "      <td>0.126</td>\n",
              "      <td>26.0</td>\n",
              "      <td>1.0</td>\n",
              "    </tr>\n",
              "    <tr>\n",
              "      <th>4</th>\n",
              "      <td>36.530167</td>\n",
              "      <td>-117.971664</td>\n",
              "      <td>6.81</td>\n",
              "      <td>3.00</td>\n",
              "      <td>45.0</td>\n",
              "      <td>55.0</td>\n",
              "      <td>0.10040</td>\n",
              "      <td>0.24</td>\n",
              "      <td>0.30</td>\n",
              "      <td>0.85</td>\n",
              "      <td>0.268</td>\n",
              "      <td>24.0</td>\n",
              "      <td>1.0</td>\n",
              "    </tr>\n",
              "  </tbody>\n",
              "</table>\n",
              "</div>"
            ],
            "text/plain": [
              "    latitude   longitude  depth   mag   nst   gap     dmin   rms  \\\n",
              "0  33.190167 -115.595833   1.78  1.72  21.0  81.0  0.02089  0.19   \n",
              "1  61.662800 -150.393800  18.00  1.70   NaN   NaN      NaN  0.34   \n",
              "2  33.197333 -115.602500   1.42  1.47  19.0  88.0  0.02200  0.25   \n",
              "3  34.067500 -117.259000  10.68  0.95  27.0  71.0  0.12170  0.23   \n",
              "4  36.530167 -117.971664   6.81  3.00  45.0  55.0  0.10040  0.24   \n",
              "\n",
              "   horizontalError  depthError  magError  magNst  class  \n",
              "0             0.31        0.42     0.129    27.0    1.0  \n",
              "1              NaN        0.40       NaN     NaN    1.0  \n",
              "2             0.42        0.59     0.193    27.0    1.0  \n",
              "3             0.35        1.04     0.126    26.0    1.0  \n",
              "4             0.30        0.85     0.268    24.0    1.0  "
            ]
          },
          "execution_count": 17,
          "metadata": {},
          "output_type": "execute_result"
        }
      ],
      "source": [
        "df.head()"
      ]
    },
    {
      "cell_type": "code",
      "execution_count": null,
      "metadata": {
        "id": "eQZ1mMSA-lV7"
      },
      "outputs": [],
      "source": [
        "df['nst'] = df['nst'].replace(np.NaN, df['nst'].mean())\n",
        "df['gap'] = df['gap'].replace(np.NaN, df['gap'].mean())\n",
        "df['dmin'] = df['dmin'].replace(np.NaN, df['dmin'].mean())\n",
        "df['rms'] = df['rms'].replace(np.NaN, df['rms'].mean())\n",
        "df['horizontalError'] = df['horizontalError'].replace(np.NaN, df['horizontalError'].mean())\n",
        "df['depthError'] = df['depthError'].replace(np.NaN, df['depthError'].mean())\n",
        "df['magError'] = df['magError'].replace(np.NaN, df['magError'].mean())\n",
        "df['magNst'] = df['magNst'].replace(np.NaN, df['magNst'].mean())"
      ]
    },
    {
      "cell_type": "code",
      "execution_count": null,
      "metadata": {
        "id": "EVy2ABk5-lV7",
        "outputId": "d833b6d3-f7de-4f6c-baed-331e96a48313"
      },
      "outputs": [
        {
          "data": {
            "text/plain": [
              "latitude           0\n",
              "longitude          0\n",
              "depth              0\n",
              "mag                0\n",
              "nst                0\n",
              "gap                0\n",
              "dmin               0\n",
              "rms                0\n",
              "horizontalError    0\n",
              "depthError         0\n",
              "magError           0\n",
              "magNst             0\n",
              "class              0\n",
              "dtype: int64"
            ]
          },
          "execution_count": 19,
          "metadata": {},
          "output_type": "execute_result"
        }
      ],
      "source": [
        "df.isnull().sum()"
      ]
    },
    {
      "cell_type": "code",
      "execution_count": null,
      "metadata": {
        "id": "8_fkmN6q-lV8",
        "outputId": "49f7125f-b5bc-4fd2-cd82-7f28538644f8"
      },
      "outputs": [
        {
          "data": {
            "image/png": "[encoded data removed]",
            "text/plain": [
              "<Figure size 432x288 with 1 Axes>"
            ]
          },
          "metadata": {},
          "output_type": "display_data"
        }
      ],
      "source": [
        "import matplotlib.pyplot as plt\n",
        "my_labels = 'Mild Earthquake','Moderate Earthquake','Fatal Earthquake'\n",
        "plt.pie(df['class'].value_counts(),labels=my_labels,autopct='%1.1f%%')\n",
        "plt.title('Earthquake Classification')\n",
        "plt.axis('equal')\n",
        "plt.show()"
      ]
    },
    {
      "cell_type": "code",
      "execution_count": null,
      "metadata": {
        "id": "tWXUxfUK-lV9"
      },
      "outputs": [],
      "source": [
        "X = df.drop([\"class\"], axis = 1)\n",
        "Y = df['class']"
      ]
    },
    {
      "cell_type": "code",
      "execution_count": null,
      "metadata": {
        "id": "TVfvSbJ9-lV9"
      },
      "outputs": [],
      "source": [
        "from sklearn.model_selection import train_test_split\n",
        "x_train, x_test, y_train, y_test = train_test_split(X, Y, test_size = 0.2, random_state=0)"
      ]
    },
    {
      "cell_type": "markdown",
      "metadata": {
        "id": "TshQMaQB-lV-"
      },
      "source": [
        "<font size=\"6\">ZeroR/Dummy Classifier</font>"
      ]
    },
    {
      "cell_type": "code",
      "execution_count": null,
      "metadata": {
        "id": "_IbCfnUg-lV_",
        "outputId": "2f96a98d-f56c-409f-e722-34ff20ad6cba"
      },
      "outputs": [
        {
          "data": {
            "text/plain": [
              "DummyClassifier(strategy='most_frequent')"
            ]
          },
          "execution_count": 24,
          "metadata": {},
          "output_type": "execute_result"
        }
      ],
      "source": [
        "from sklearn.dummy import DummyClassifier\n",
        "dummy_clf = DummyClassifier(strategy=\"most_frequent\")\n",
        "dummy_clf.fit(x_train, y_train)"
      ]
    },
    {
      "cell_type": "code",
      "execution_count": null,
      "metadata": {
        "id": "QQ2zFqf2-lV_"
      },
      "outputs": [],
      "source": [
        "y_pred = dummy_clf.predict(x_test)"
      ]
    },
    {
      "cell_type": "code",
      "execution_count": null,
      "metadata": {
        "id": "bV42nr6k-lWA",
        "outputId": "d5057bd0-549e-4218-bc1f-68097b5a1005"
      },
      "outputs": [
        {
          "data": {
            "image/png": "[encoded data removed]",
            "text/plain": [
              "<Figure size 360x360 with 2 Axes>"
            ]
          },
          "metadata": {
            "needs_background": "light"
          },
          "output_type": "display_data"
        }
      ],
      "source": [
        "from sklearn.metrics import confusion_matrix\n",
        "cf_matrix = confusion_matrix(y_test, y_pred)\n",
        "plt.subplots(figsize=(5,5))\n",
        "cm = sns.heatmap(cf_matrix, cmap=\"YlGnBu\", fmt = 'd', annot=True)"
      ]
    },
    {
      "cell_type": "code",
      "execution_count": null,
      "metadata": {
        "id": "yQ57cKJk-lWA",
        "outputId": "179bca05-e60c-47aa-ca69-1ed69a241dd5"
      },
      "outputs": [
        {
          "name": "stdout",
          "output_type": "stream",
          "text": [
            "0.947576099210823\n"
          ]
        }
      ],
      "source": [
        "from sklearn.metrics import accuracy_score\n",
        "print(accuracy_score(y_test,y_pred))"
      ]
    },
    {
      "cell_type": "code",
      "execution_count": null,
      "metadata": {
        "id": "VExjMVfI-lWA",
        "outputId": "77c49398-557d-4829-c759-585ab01f62b8"
      },
      "outputs": [
        {
          "name": "stdout",
          "output_type": "stream",
          "text": [
            "0.315858699736941\n"
          ]
        },
        {
          "name": "stderr",
          "output_type": "stream",
          "text": [
            "C:\\Users\\ranea\\anaconda3\\lib\\site-packages\\sklearn\\metrics\\_classification.py:1248: UndefinedMetricWarning: Precision is ill-defined and being set to 0.0 in labels with no predicted samples. Use `zero_division` parameter to control this behavior.\n",
            "  _warn_prf(average, modifier, msg_start, len(result))\n"
          ]
        }
      ],
      "source": [
        "from sklearn.metrics import precision_score\n",
        "print(precision_score(y_test,y_pred, average = 'macro'))"
      ]
    },
    {
      "cell_type": "code",
      "execution_count": null,
      "metadata": {
        "id": "Schy48JF-lWB",
        "outputId": "3eb9e66e-0d4f-4628-ec11-37b2d7707084"
      },
      "outputs": [
        {
          "name": "stdout",
          "output_type": "stream",
          "text": [
            "0.3333333333333333\n"
          ]
        }
      ],
      "source": [
        "from sklearn.metrics import recall_score\n",
        "print(recall_score(y_test,y_pred, average = 'macro'))"
      ]
    },
    {
      "cell_type": "code",
      "execution_count": null,
      "metadata": {
        "id": "EIIpbTTk-lWB",
        "outputId": "34d522b8-c63d-451b-ecc1-1b94574035c1"
      },
      "outputs": [
        {
          "name": "stdout",
          "output_type": "stream",
          "text": [
            "0.3243608297153883\n"
          ]
        }
      ],
      "source": [
        "from sklearn.metrics import f1_score\n",
        "print(f1_score(y_test,y_pred, average = 'macro'))"
      ]
    },
    {
      "cell_type": "code",
      "execution_count": null,
      "metadata": {
        "id": "uVELmrZK-lWB",
        "outputId": "b311c8ff-7978-4f6d-9b58-f32e82da2440"
      },
      "outputs": [
        {
          "name": "stdout",
          "output_type": "stream",
          "text": [
            "0.0\n"
          ]
        },
        {
          "name": "stderr",
          "output_type": "stream",
          "text": [
            "C:\\Users\\ranea\\anaconda3\\lib\\site-packages\\sklearn\\metrics\\_classification.py:873: RuntimeWarning: invalid value encountered in double_scalars\n",
            "  mcc = cov_ytyp / np.sqrt(cov_ytyt * cov_ypyp)\n"
          ]
        }
      ],
      "source": [
        "from sklearn.metrics import matthews_corrcoef\n",
        "print(matthews_corrcoef(y_test, y_pred, sample_weight=None))"
      ]
    },
    {
      "cell_type": "markdown",
      "metadata": {
        "id": "9ZXkrqYf-lWB"
      },
      "source": [
        "<font size=\"6\">Random Forest</font>"
      ]
    },
    {
      "cell_type": "code",
      "execution_count": null,
      "metadata": {
        "id": "Is2-6TJr-lWB"
      },
      "outputs": [],
      "source": [
        "# Random Forest\n",
        "from sklearn.ensemble import RandomForestRegressor\n",
        "# Instantiate model with 1000 decision trees\n",
        "rf = RandomForestRegressor(n_estimators = 1000, random_state = 42)\n",
        "rf.fit(x_train, y_train);"
      ]
    },
    {
      "cell_type": "code",
      "execution_count": null,
      "metadata": {
        "id": "IJm6uInu-lWB"
      },
      "outputs": [],
      "source": [
        "y_pred = rf.predict(x_test)"
      ]
    },
    {
      "cell_type": "code",
      "execution_count": null,
      "metadata": {
        "id": "KlQjHKJ5-lWC",
        "outputId": "d1110801-2ad6-42e5-88a5-cfbda5a12cf5"
      },
      "outputs": [
        {
          "data": {
            "image/png": "[encoded data removed]",
            "text/plain": [
              "<Figure size 360x360 with 2 Axes>"
            ]
          },
          "metadata": {
            "needs_background": "light"
          },
          "output_type": "display_data"
        }
      ],
      "source": [
        "from sklearn.metrics import confusion_matrix\n",
        "cf_matrix = confusion_matrix(y_test, y_pred)\n",
        "plt.subplots(figsize=(5,5))\n",
        "cm = sns.heatmap(cf_matrix, cmap=\"YlGnBu\", fmt = 'd', annot=True)"
      ]
    },
    {
      "cell_type": "code",
      "execution_count": null,
      "metadata": {
        "id": "bbmsCkZp-lWD",
        "outputId": "06491d35-7b50-41f7-a9f4-21341151578b"
      },
      "outputs": [
        {
          "name": "stdout",
          "output_type": "stream",
          "text": [
            "1.0\n"
          ]
        }
      ],
      "source": [
        "from sklearn.metrics import accuracy_score\n",
        "print(accuracy_score(y_test,y_pred))"
      ]
    },
    {
      "cell_type": "code",
      "execution_count": null,
      "metadata": {
        "id": "-KkjKne2-lWD",
        "outputId": "0aae3a6c-91fc-44ee-bb91-850e9c4f9e25"
      },
      "outputs": [
        {
          "name": "stdout",
          "output_type": "stream",
          "text": [
            "1.0\n"
          ]
        }
      ],
      "source": [
        "from sklearn.metrics import precision_score\n",
        "print(precision_score(y_test,y_pred, average = 'macro'))"
      ]
    },
    {
      "cell_type": "code",
      "execution_count": null,
      "metadata": {
        "id": "1_6Zfouy-lWD",
        "outputId": "9d0c87fd-ea86-4cae-c609-6296aa8c8c03"
      },
      "outputs": [
        {
          "name": "stdout",
          "output_type": "stream",
          "text": [
            "1.0\n"
          ]
        }
      ],
      "source": [
        "from sklearn.metrics import recall_score\n",
        "print(recall_score(y_test,y_pred, average = 'macro'))"
      ]
    },
    {
      "cell_type": "code",
      "execution_count": null,
      "metadata": {
        "id": "VM_lWymQ-lWE",
        "outputId": "96e81a06-e62d-44a8-e727-95dea75105c9"
      },
      "outputs": [
        {
          "name": "stdout",
          "output_type": "stream",
          "text": [
            "1.0\n"
          ]
        }
      ],
      "source": [
        "from sklearn.metrics import f1_score\n",
        "print(f1_score(y_test,y_pred, average = 'macro'))"
      ]
    },
    {
      "cell_type": "code",
      "execution_count": null,
      "metadata": {
        "id": "5JM8LbW1-lWE",
        "outputId": "17a70403-03f6-411b-b83c-0292e7911496"
      },
      "outputs": [
        {
          "name": "stdout",
          "output_type": "stream",
          "text": [
            "1.0\n"
          ]
        }
      ],
      "source": [
        "from sklearn.metrics import matthews_corrcoef\n",
        "print(matthews_corrcoef(y_test, y_pred, sample_weight=None))"
      ]
    },
    {
      "cell_type": "markdown",
      "metadata": {
        "id": "XFrr84Qs-lWF"
      },
      "source": [
        "<font size=\"6\">Logistic Regression</font>"
      ]
    },
    {
      "cell_type": "code",
      "execution_count": null,
      "metadata": {
        "id": "98JutN6T-lWF"
      },
      "outputs": [],
      "source": [
        "#scaling before applying logistic regression\n",
        "from sklearn.preprocessing import StandardScaler\n",
        "sc_X = StandardScaler()\n",
        "X_trainscaled=sc_X.fit_transform(x_train)\n",
        "X_testscaled=sc_X.transform(x_test)"
      ]
    },
    {
      "cell_type": "code",
      "execution_count": null,
      "metadata": {
        "id": "i4NLab1s-lWF",
        "outputId": "e5c98967-22ad-4f96-98f3-82c6634d2331"
      },
      "outputs": [
        {
          "name": "stderr",
          "output_type": "stream",
          "text": [
            "C:\\Users\\ranea\\anaconda3\\lib\\site-packages\\sklearn\\linear_model\\_logistic.py:763: ConvergenceWarning: lbfgs failed to converge (status=1):\n",
            "STOP: TOTAL NO. of ITERATIONS REACHED LIMIT.\n",
            "\n",
            "Increase the number of iterations (max_iter) or scale the data as shown in:\n",
            "    https://scikit-learn.org/stable/modules/preprocessing.html\n",
            "Please also refer to the documentation for alternative solver options:\n",
            "    https://scikit-learn.org/stable/modules/linear_model.html#logistic-regression\n",
            "  n_iter_i = _check_optimize_result(\n"
          ]
        },
        {
          "data": {
            "text/plain": [
              "LogisticRegression(multi_class='multinomial')"
            ]
          },
          "execution_count": 41,
          "metadata": {},
          "output_type": "execute_result"
        }
      ],
      "source": [
        "from sklearn.linear_model import LogisticRegression\n",
        "logreg = LogisticRegression(multi_class='multinomial', solver='lbfgs')\n",
        "logreg.fit(X_trainscaled, y_train)"
      ]
    },
    {
      "cell_type": "code",
      "execution_count": null,
      "metadata": {
        "id": "c9BhThPX-lWF"
      },
      "outputs": [],
      "source": [
        "y_pred = logreg.predict(X_testscaled)"
      ]
    },
    {
      "cell_type": "code",
      "execution_count": null,
      "metadata": {
        "id": "dadNzLH6-lWF",
        "outputId": "450ca286-86ca-4801-d8a9-7aff2c727d35"
      },
      "outputs": [
        {
          "data": {
            "image/png": "[encoded data removed]",
            "text/plain": [
              "<Figure size 360x360 with 2 Axes>"
            ]
          },
          "metadata": {
            "needs_background": "light"
          },
          "output_type": "display_data"
        }
      ],
      "source": [
        "from sklearn.metrics import confusion_matrix\n",
        "cf_matrix = confusion_matrix(y_test, y_pred)\n",
        "plt.subplots(figsize=(5,5))\n",
        "cm = sns.heatmap(cf_matrix, cmap=\"YlGnBu\", fmt = 'd', annot=True)"
      ]
    },
    {
      "cell_type": "code",
      "execution_count": null,
      "metadata": {
        "id": "llWFGNfB-lWF",
        "outputId": "231f70d1-d526-43ef-ed0e-9dbefd503822"
      },
      "outputs": [
        {
          "name": "stdout",
          "output_type": "stream",
          "text": [
            "0.9915445321307779\n"
          ]
        }
      ],
      "source": [
        "from sklearn.metrics import accuracy_score\n",
        "print(accuracy_score(y_test,y_pred))"
      ]
    },
    {
      "cell_type": "code",
      "execution_count": null,
      "metadata": {
        "id": "RDtFuivQ-lWF",
        "outputId": "85d4d654-1ccf-4853-8985-59ef66415ecb"
      },
      "outputs": [
        {
          "name": "stdout",
          "output_type": "stream",
          "text": [
            "0.958913308913309\n"
          ]
        }
      ],
      "source": [
        "from sklearn.metrics import precision_score\n",
        "print(precision_score(y_test,y_pred, average = 'macro'))"
      ]
    },
    {
      "cell_type": "code",
      "execution_count": null,
      "metadata": {
        "id": "KJooigm8-lWH",
        "outputId": "76a4240f-acf7-494c-ad2b-33f86eea036f"
      },
      "outputs": [
        {
          "name": "stdout",
          "output_type": "stream",
          "text": [
            "0.7609132885753945\n"
          ]
        }
      ],
      "source": [
        "from sklearn.metrics import recall_score\n",
        "print(recall_score(y_test,y_pred, average = 'macro'))"
      ]
    },
    {
      "cell_type": "code",
      "execution_count": null,
      "metadata": {
        "id": "8jldvKWN-lWH",
        "outputId": "3e2f02bb-72d9-48e0-ea83-57b4ff385fea"
      },
      "outputs": [
        {
          "name": "stdout",
          "output_type": "stream",
          "text": [
            "0.803869313271277\n"
          ]
        }
      ],
      "source": [
        "from sklearn.metrics import f1_score\n",
        "print(f1_score(y_test,y_pred, average = 'macro'))"
      ]
    },
    {
      "cell_type": "code",
      "execution_count": null,
      "metadata": {
        "id": "i6FKc6zO-lWH",
        "outputId": "af9f19bb-8ef9-4f7f-e22b-bf862812ee07"
      },
      "outputs": [
        {
          "name": "stdout",
          "output_type": "stream",
          "text": [
            "0.915741368172741\n"
          ]
        }
      ],
      "source": [
        "from sklearn.metrics import matthews_corrcoef\n",
        "print(matthews_corrcoef(y_test, y_pred, sample_weight=None))"
      ]
    },
    {
      "cell_type": "markdown",
      "metadata": {
        "id": "1P-4GeOK-lWI"
      },
      "source": [
        "<font size=\"6\">Decision Tree</font>"
      ]
    },
    {
      "cell_type": "code",
      "execution_count": null,
      "metadata": {
        "id": "9uNNvtVB-lWI"
      },
      "outputs": [],
      "source": [
        "from sklearn.tree import DecisionTreeClassifier\n",
        "# Create Decision Tree classifer object\n",
        "dt = DecisionTreeClassifier()\n",
        "dt = dt.fit(x_train,y_train)"
      ]
    },
    {
      "cell_type": "code",
      "execution_count": null,
      "metadata": {
        "id": "SadOGWQS-lWI"
      },
      "outputs": [],
      "source": [
        "y_pred = dt.predict(x_test)"
      ]
    },
    {
      "cell_type": "code",
      "execution_count": null,
      "metadata": {
        "id": "XulGbjPR-lWJ",
        "outputId": "cfa2bbb6-4c9a-4831-fdb2-9dbfcd4ccb5e"
      },
      "outputs": [
        {
          "data": {
            "image/png": "[encoded data removed]",
            "text/plain": [
              "<Figure size 360x360 with 2 Axes>"
            ]
          },
          "metadata": {
            "needs_background": "light"
          },
          "output_type": "display_data"
        }
      ],
      "source": [
        "from sklearn.metrics import confusion_matrix\n",
        "cf_matrix = confusion_matrix(y_test, y_pred)\n",
        "plt.subplots(figsize=(5,5))\n",
        "cm = sns.heatmap(cf_matrix, cmap=\"YlGnBu\", fmt = 'd', annot=True)"
      ]
    },
    {
      "cell_type": "code",
      "execution_count": null,
      "metadata": {
        "id": "AFFS6G_0-lWJ",
        "outputId": "90343b40-52f0-4e83-f110-38434338665b"
      },
      "outputs": [
        {
          "name": "stdout",
          "output_type": "stream",
          "text": [
            "1.0\n"
          ]
        }
      ],
      "source": [
        "from sklearn.metrics import accuracy_score\n",
        "print(accuracy_score(y_test,y_pred))"
      ]
    },
    {
      "cell_type": "code",
      "execution_count": null,
      "metadata": {
        "id": "xNaNJF8V-lWJ",
        "outputId": "5cff9f1a-c5b5-46ad-b8cc-4966c9580590"
      },
      "outputs": [
        {
          "name": "stdout",
          "output_type": "stream",
          "text": [
            "1.0\n"
          ]
        }
      ],
      "source": [
        "from sklearn.metrics import precision_score\n",
        "print(precision_score(y_test,y_pred, average = 'macro'))"
      ]
    },
    {
      "cell_type": "code",
      "execution_count": null,
      "metadata": {
        "id": "9kn2l6GF-lWJ",
        "outputId": "aa4d0783-d84e-4518-d263-7b69c8f5f859"
      },
      "outputs": [
        {
          "name": "stdout",
          "output_type": "stream",
          "text": [
            "1.0\n"
          ]
        }
      ],
      "source": [
        "from sklearn.metrics import recall_score\n",
        "print(recall_score(y_test,y_pred, average = 'macro'))"
      ]
    },
    {
      "cell_type": "code",
      "execution_count": null,
      "metadata": {
        "id": "QUa77J12-lWJ",
        "outputId": "3cac8e97-8062-4a04-aab6-db494ed62572"
      },
      "outputs": [
        {
          "name": "stdout",
          "output_type": "stream",
          "text": [
            "1.0\n"
          ]
        }
      ],
      "source": [
        "from sklearn.metrics import f1_score\n",
        "print(f1_score(y_test,y_pred, average = 'macro'))"
      ]
    },
    {
      "cell_type": "code",
      "execution_count": null,
      "metadata": {
        "id": "MkRzOHU9-lWJ",
        "outputId": "7c5413f6-ba00-4862-c13f-89699f190e2c"
      },
      "outputs": [
        {
          "name": "stdout",
          "output_type": "stream",
          "text": [
            "1.0\n"
          ]
        }
      ],
      "source": [
        "from sklearn.metrics import matthews_corrcoef\n",
        "print(matthews_corrcoef(y_test, y_pred, sample_weight=None))"
      ]
    },
    {
      "cell_type": "markdown",
      "metadata": {
        "id": "LKemMYG8-lWJ"
      },
      "source": [
        "<font size=\"6\">Linear Model Tree</font>"
      ]
    },
    {
      "cell_type": "code",
      "execution_count": null,
      "metadata": {
        "id": "zcS6CGnf-lWK",
        "outputId": "36ac666a-5c3b-4c73-a67f-086d9016f9a7"
      },
      "outputs": [
        {
          "data": {
            "text/plain": [
              "LinearTreeClassifier(base_estimator=RidgeClassifier())"
            ]
          },
          "execution_count": 57,
          "metadata": {},
          "output_type": "execute_result"
        }
      ],
      "source": [
        "from sklearn.linear_model import RidgeClassifier\n",
        "from lineartree import LinearTreeClassifier\n",
        "lmt = LinearTreeClassifier(base_estimator=RidgeClassifier())\n",
        "lmt.fit(X_trainscaled, y_train)"
      ]
    },
    {
      "cell_type": "code",
      "execution_count": null,
      "metadata": {
        "id": "Z32qK_46-lWK"
      },
      "outputs": [],
      "source": [
        "y_pred = lmt.predict(X_testscaled)"
      ]
    },
    {
      "cell_type": "code",
      "execution_count": null,
      "metadata": {
        "id": "sH_iNBV1-lWK",
        "outputId": "80445b5b-fa38-4951-9fd4-20bc34e650b3"
      },
      "outputs": [
        {
          "data": {
            "image/png": "[encoded data removed]",
            "text/plain": [
              "<Figure size 360x360 with 2 Axes>"
            ]
          },
          "metadata": {
            "needs_background": "light"
          },
          "output_type": "display_data"
        }
      ],
      "source": [
        "from sklearn.metrics import confusion_matrix\n",
        "cf_matrix = confusion_matrix(y_test, y_pred)\n",
        "plt.subplots(figsize=(5,5))\n",
        "cm = sns.heatmap(cf_matrix, cmap=\"YlGnBu\", fmt = 'd', annot=True)"
      ]
    },
    {
      "cell_type": "code",
      "execution_count": null,
      "metadata": {
        "id": "pnyg1WTn-lWL",
        "outputId": "21e816a6-a8e6-4eb0-9f0a-acc97ff1267a"
      },
      "outputs": [
        {
          "name": "stdout",
          "output_type": "stream",
          "text": [
            "0.9813979706877114\n"
          ]
        }
      ],
      "source": [
        "from sklearn.metrics import accuracy_score\n",
        "print(accuracy_score(y_test,y_pred))"
      ]
    },
    {
      "cell_type": "code",
      "execution_count": null,
      "metadata": {
        "id": "C3f_Q9Bk-lWL",
        "outputId": "45b96d4d-67e2-4f1d-d65e-015513be751c"
      },
      "outputs": [
        {
          "name": "stdout",
          "output_type": "stream",
          "text": [
            "0.5990585642392159\n"
          ]
        },
        {
          "name": "stderr",
          "output_type": "stream",
          "text": [
            "C:\\Users\\ranea\\anaconda3\\lib\\site-packages\\sklearn\\metrics\\_classification.py:1248: UndefinedMetricWarning: Precision is ill-defined and being set to 0.0 in labels with no predicted samples. Use `zero_division` parameter to control this behavior.\n",
            "  _warn_prf(average, modifier, msg_start, len(result))\n"
          ]
        }
      ],
      "source": [
        "from sklearn.metrics import precision_score\n",
        "print(precision_score(y_test,y_pred, average = 'macro'))"
      ]
    },
    {
      "cell_type": "code",
      "execution_count": null,
      "metadata": {
        "id": "wWpAd67D-lWL",
        "outputId": "f4cb4676-99a4-447a-c525-e1cd30045f73"
      },
      "outputs": [
        {
          "name": "stdout",
          "output_type": "stream",
          "text": [
            "0.5978182865452348\n"
          ]
        }
      ],
      "source": [
        "from sklearn.metrics import recall_score\n",
        "print(recall_score(y_test,y_pred, average = 'macro'))"
      ]
    },
    {
      "cell_type": "code",
      "execution_count": null,
      "metadata": {
        "id": "G392quH5-lWM",
        "outputId": "e456bdd5-6b66-41f0-a618-9b360e8f4bba"
      },
      "outputs": [
        {
          "name": "stdout",
          "output_type": "stream",
          "text": [
            "0.5984259239528061\n"
          ]
        }
      ],
      "source": [
        "from sklearn.metrics import f1_score\n",
        "print(f1_score(y_test,y_pred, average = 'macro'))"
      ]
    },
    {
      "cell_type": "code",
      "execution_count": null,
      "metadata": {
        "id": "mu_gv0gC-lWM",
        "outputId": "edf2277c-8658-48bf-cb57-e1b9a2dc228d"
      },
      "outputs": [
        {
          "name": "stdout",
          "output_type": "stream",
          "text": [
            "0.8047626522570032\n"
          ]
        }
      ],
      "source": [
        "from sklearn.metrics import matthews_corrcoef\n",
        "print(matthews_corrcoef(y_test, y_pred, sample_weight=None))"
      ]
    },
    {
      "cell_type": "code",
      "source": [
        "from matplotlib import pyplot as plt\n",
        "from matplotlib import style"
      ],
      "metadata": {
        "id": "2ZPPeZbDxNTO"
      },
      "execution_count": null,
      "outputs": []
    },
    {
      "cell_type": "code",
      "source": [
        "from matplotlib import pyplot as plt\n",
        "Names = ['ZeroR','Linear Tree','Logistic Regression','Decision Tree','Random Forest']\n",
        "Marks = [0.94,0.98,0.99,1,1]\n",
        "plt.figure(figsize = (10, 5))\n",
        "plt.bar(Names,Marks,color = 'blue')\n",
        "plt.title('Accuracy Score')\n",
        "plt.xlabel('Supervised ML Models')\n",
        "plt.ylabel('Accuracy')\n",
        "plt.show()"
      ],
      "metadata": {
        "colab": {
          "base_uri": "https://localhost:8080/",
          "height": 354
        },
        "id": "sjurKSVgxZRq",
        "outputId": "bc92128d-3016-4a4e-b59c-11b68c42b573"
      },
      "execution_count": null,
      "outputs": [
        {
          "output_type": "display_data",
          "data": {
            "text/plain": [
              "<Figure size 720x360 with 1 Axes>"
            ],
            "image/png": "[encoded data removed]"
          },
          "metadata": {}
        }
      ]
    },
    {
      "cell_type": "code",
      "source": [],
      "metadata": {
        "id": "Qk_rYIGay-sK"
      },
      "execution_count": null,
      "outputs": []
    },
    {
      "cell_type": "code",
      "source": [
        "from matplotlib import pyplot as plt\n",
        "Names = ['ZeroR','Linear Tree','Logistic Regression','Decision Tree','Random Forest']\n",
        "Marks = [0.31,0.59,0.95,1,1]\n",
        "plt.figure(figsize = (10, 5))\n",
        "plt.bar(Names,Marks,color = 'blue')\n",
        "plt.title('Precision Score')\n",
        "plt.xlabel('Supervised ML Models')\n",
        "plt.ylabel('Precision')\n",
        "plt.show()"
      ],
      "metadata": {
        "colab": {
          "base_uri": "https://localhost:8080/",
          "height": 354
        },
        "outputId": "73218d29-b569-42b6-bc0a-c638804cdf15",
        "id": "IY-WQoYly_H0"
      },
      "execution_count": null,
      "outputs": [
        {
          "output_type": "display_data",
          "data": {
            "text/plain": [
              "<Figure size 720x360 with 1 Axes>"
            ],
            "image/png": "[encoded data removed]"
          },
          "metadata": {}
        }
      ]
    },
    {
      "cell_type": "code",
      "source": [],
      "metadata": {
        "id": "sDf9meDszJb1"
      },
      "execution_count": null,
      "outputs": []
    },
    {
      "cell_type": "code",
      "source": [
        "from matplotlib import pyplot as plt\n",
        "Names = ['ZeroR','Linear Tree','Logistic Regression','Decision Tree','Random Forest']\n",
        "Marks = [0.33,0.59,0.76,1,1]\n",
        "plt.figure(figsize = (10, 5))\n",
        "plt.bar(Names,Marks,color = 'blue')\n",
        "plt.title('Recall Score')\n",
        "plt.xlabel('Supervised ML Models')\n",
        "plt.ylabel('Recall Score')\n",
        "plt.show()"
      ],
      "metadata": {
        "colab": {
          "base_uri": "https://localhost:8080/",
          "height": 354
        },
        "outputId": "50ca8aa7-10f5-4fda-e24c-389f9f1391d4",
        "id": "2Dfe4YG8zJ81"
      },
      "execution_count": null,
      "outputs": [
        {
          "output_type": "display_data",
          "data": {
            "text/plain": [
              "<Figure size 720x360 with 1 Axes>"
            ],
            "image/png": "[encoded data removed]"
          },
          "metadata": {}
        }
      ]
    },
    {
      "cell_type": "code",
      "source": [],
      "metadata": {
        "id": "dAh9nwZDzTdh"
      },
      "execution_count": null,
      "outputs": []
    },
    {
      "cell_type": "code",
      "source": [
        "from matplotlib import pyplot as plt\n",
        "Names = ['ZeroR','Linear Tree','Logistic Regression','Decision Tree','Random Forest']\n",
        "Marks = [0.32,0.59,0.80,1,1]\n",
        "plt.figure(figsize = (10, 5))\n",
        "plt.bar(Names,Marks,color = 'blue')\n",
        "plt.title('F1 Score')\n",
        "plt.xlabel('Supervised ML Models')\n",
        "plt.ylabel('F1 Score')\n",
        "plt.show()"
      ],
      "metadata": {
        "colab": {
          "base_uri": "https://localhost:8080/",
          "height": 354
        },
        "outputId": "b9c2e3b2-6f78-442d-af74-1c34a8df289d",
        "id": "VVR_QD3FzT4y"
      },
      "execution_count": null,
      "outputs": [
        {
          "output_type": "display_data",
          "data": {
            "text/plain": [
              "<Figure size 720x360 with 1 Axes>"
            ],
            "image/png": "[encoded data removed]"
          },
          "metadata": {}
        }
      ]
    },
    {
      "cell_type": "code",
      "source": [],
      "metadata": {
        "id": "CVJTS0Fbze-k"
      },
      "execution_count": null,
      "outputs": []
    },
    {
      "cell_type": "code",
      "source": [
        "from matplotlib import pyplot as plt\n",
        "Names = ['ZeroR','Linear Tree','Logistic Regression','Decision Tree','Random Forest']\n",
        "Marks = [0,0.80,0.91,1,1]\n",
        "plt.figure(figsize = (10, 5))\n",
        "plt.bar(Names,Marks,color = 'blue')\n",
        "plt.title('Matthews Coefficient')\n",
        "plt.xlabel('Supervised ML Models')\n",
        "plt.ylabel('Matthews Coefficient')\n",
        "plt.show()"
      ],
      "metadata": {
        "colab": {
          "base_uri": "https://localhost:8080/",
          "height": 354
        },
        "outputId": "33950c92-ed23-48dd-a211-87037d7a9866",
        "id": "dzdac9IezfYJ"
      },
      "execution_count": null,
      "outputs": [
        {
          "output_type": "display_data",
          "data": {
            "text/plain": [
              "<Figure size 720x360 with 1 Axes>"
            ],
            "image/png": "[encoded data removed]"
          },
          "metadata": {}
        }
      ]
    }
  ],
  "metadata": {
    "colab": {
      "provenance": []
    },
    "kernelspec": {
      "display_name": "Python 3 (ipykernel)",
      "language": "python",
      "name": "python3"
    },
    "language_info": {
      "codemirror_mode": {
        "name": "ipython",
        "version": 3
      },
      "file_extension": ".py",
      "mimetype": "text/x-python",
      "name": "python",
      "nbconvert_exporter": "python",
      "pygments_lexer": "ipython3",
      "version": "3.9.7"
    }
  },
  "nbformat": 4,
  "nbformat_minor": 0
}